{
 "cells": [
  {
   "cell_type": "code",
   "execution_count": 9,
   "id": "e88fd2d6",
   "metadata": {},
   "outputs": [
    {
     "name": "stdout",
     "output_type": "stream",
     "text": [
      "[['1' 'swap' '1' 'info' 'hist' 'treatment' '0' '10000']\n",
      " ['2' 'pand' '1' 'info' 'hist' 'treatment' '1' '20000']]\n"
     ]
    }
   ],
   "source": [
    "import numpy as np\n",
    "pat = np.array([[1,\"swap\",1,\"info\",\"hist\",\"treatment\",0,10000],[2,\"pand\",1,\"info\",\"hist\",\"treatment\",1,20000]])\n",
    "print(pat)"
   ]
  },
  {
   "cell_type": "code",
   "execution_count": 10,
   "id": "4841a93a",
   "metadata": {},
   "outputs": [
    {
     "name": "stdout",
     "output_type": "stream",
     "text": [
      "[['1' 'xyz' 'speci']\n",
      " ['2' 'abc' 'speci']]\n"
     ]
    }
   ],
   "source": [
    "doc = np.array([[1,\"xyz\",\"speci\"],[2,\"abc\",\"speci\"]])\n",
    "print(doc)"
   ]
  },
  {
   "cell_type": "code",
   "execution_count": 21,
   "id": "5401eda9",
   "metadata": {},
   "outputs": [
    {
     "name": "stdout",
     "output_type": "stream",
     "text": [
      "['1', '2']\n"
     ]
    }
   ],
   "source": [
    "def patAssign(id,pat):\n",
    "    li = []\n",
    "    \n",
    "    i = 0\n",
    "    \n",
    "    while i < pat.shape[0]:\n",
    "        if id == pat[i,2]:\n",
    "            li.append(pat[i,0])\n",
    "        i+=1\n",
    "    print(li)\n",
    "    \n",
    "patAssign('1',pat)\n",
    "\n",
    "        "
   ]
  },
  {
   "cell_type": "code",
   "execution_count": 29,
   "id": "e92d45c8",
   "metadata": {},
   "outputs": [
    {
     "name": "stdout",
     "output_type": "stream",
     "text": [
      "[['1' 'swap' '1' 'info' 'hist' 'new' '0' '10000']\n",
      " ['2' 'pand' '1' 'info' 'hist' 'treatment' '1' '20000']]\n"
     ]
    }
   ],
   "source": [
    "def changeTreatment(id,pat,change):\n",
    "    id = str(id)\n",
    "    i = 0\n",
    "    while i < pat.shape[0]:\n",
    "        if id == pat[i,0]:\n",
    "            pat[i,5] = str(change)\n",
    "        i+=1\n",
    "\n",
    "changeTreatment('1',pat,\"new\")\n",
    "print(pat)"
   ]
  },
  {
   "cell_type": "code",
   "execution_count": 28,
   "id": "463bf989",
   "metadata": {},
   "outputs": [
    {
     "name": "stdout",
     "output_type": "stream",
     "text": [
      "['10000' '20000']\n"
     ]
    }
   ],
   "source": [
    "arr = pat[:,7]\n",
    "print(arr)"
   ]
  },
  {
   "cell_type": "code",
   "execution_count": null,
   "id": "1d0461f3",
   "metadata": {},
   "outputs": [],
   "source": []
  }
 ],
 "metadata": {
  "kernelspec": {
   "display_name": "Python 3 (ipykernel)",
   "language": "python",
   "name": "python3"
  },
  "language_info": {
   "codemirror_mode": {
    "name": "ipython",
    "version": 3
   },
   "file_extension": ".py",
   "mimetype": "text/x-python",
   "name": "python",
   "nbconvert_exporter": "python",
   "pygments_lexer": "ipython3",
   "version": "3.11.5"
  }
 },
 "nbformat": 4,
 "nbformat_minor": 5
}
